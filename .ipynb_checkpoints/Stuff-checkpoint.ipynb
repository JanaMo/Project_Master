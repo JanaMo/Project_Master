{
 "cells": [
  {
   "cell_type": "markdown",
   "metadata": {},
   "source": [
    "\n",
    "# -------------------------------------------------------------------------------------------------------------------\n",
    "## Resteecke : Erstellung von EBl Daten, Test von neuen FITs Files, etc. "
   ]
  },
  {
   "cell_type": "code",
   "execution_count": 1,
   "metadata": {
    "collapsed": true
   },
   "outputs": [],
   "source": [
    "import pandas as pd\n",
    "import numpy as np\n",
    "import matplotlib.pyplot as plt\n",
    "import csv\n",
    "import astropy.units as u\n",
    "from astropy.io import fits"
   ]
  },
  {
   "cell_type": "markdown",
   "metadata": {},
   "source": [
    "## Erzeugung von GRB LAT csv aus Tabellen aus dem Paper\n",
    "#### 1. Für die Fits des Spektrums \n",
    "#### 2. Für den Fit der Lightcurve "
   ]
  },
  {
   "cell_type": "code",
   "execution_count": 2,
   "metadata": {
    "collapsed": true
   },
   "outputs": [],
   "source": [
    "from scipy.constants import e as elem\n",
    "from collections import OrderedDict\n",
    "\n",
    "Names = np.array(['GRB080916','GRB090902','GRB090926','GRB110721','GRB090510','GRB091003'])\n",
    "Joint_Time = ([60.5,17.3,12.6,24.9,0.3,18])\n",
    "Models = np.array(['Band+Plaw','Comptonized+Plaw','Band+Plaw*Cut','LogParabola','Band+Plaw','Band'])\n",
    "Flu_main = np.array([1498,3057,1276,1041,263,457])*1e-17/elem # Fluence of main component\n",
    "Flu_main_err = np.array([12,25,45,31,15,15])\n",
    "Flu_add = np.array([191,1007,543,0,89,0])*1e-17/elem\n",
    "Flu_add_err = np.array([107,59,42,0,18,0])\n",
    "\n",
    "E0_Band = np.array([260,0,188,0,2734,425])\n",
    "E0_Band_err = np.array([22,0,7,0,261,19])\n",
    "alpha_Band = np.array([-0.65,0,-0.64,0,-0.67,-1.02])\n",
    "alpha_Band_err = np.array([0.06,0,0.03,0,0.05,0.01])\n",
    "beta_Band = np.array([-2.2,0,-2.63,0,-3.04,-2.65])\n",
    "beta_Band_err = np.array([0.04,0,0.06,0,0.03,0.07])\n",
    "\n",
    "E0_C = np.array([0,531,0,0,0,0])\n",
    "E0_C_err = np.array([0,10,0,0,0,0])\n",
    "alpha_C = np.array([0,0.62,0,0,0,0])\n",
    "alpha_C_err = np.array([0,0.01,0,0,0,0])\n",
    "\n",
    "b_Log = np.array([0,0,0,0.28,0,0])\n",
    "b_Log_err = np.array([0,0,0,0.01,0,0])\n",
    "Ep_Log = np.array([0,0,0,1847,0,0])\n",
    "Ep_Log_err = np.array([0,0,0,114,0,0])\n",
    "\n",
    "alpha_Plaw = np.array([2,1.94,1.76,0,1.6,0])\n",
    "alpha_Plaw_err = np.array([0.12,0.01,0.03,0,0.05,0])\n",
    "Ec_Plaw = np.array([0,0,1513,0,0,0])\n",
    "Ec_Plaw_err = np.array([0,0,617,0,0,0])\n",
    "\n",
    "GRB_EXT = pd.DataFrame(OrderedDict({'Name': Names,'Best_Fit': Models,'Time': Joint_Time,'Main_Fluence': Flu_main, \n",
    "                        'Compton_E0': E0_C ,'Compton_alpha': alpha_C,  ## Comptonized model \n",
    "                        'Band_E0': E0_Band, 'Band_alpha': alpha_Band, 'Band_beta': beta_Band, ## Band model \n",
    "                        'Log_b': b_Log, 'Log_Ep': Ep_Log, ## Log Parabola model \n",
    "                        'Add_Fluence': Flu_add, ## additional components \n",
    "                        'Plaw_alpha': alpha_Plaw, 'Plaw_Cut': Ec_Plaw ,\n",
    "                                    ### errors \n",
    "                        'Main_Fluence_err': Flu_main_err, \n",
    "                        'Compton_E0_err': E0_C_err ,'Compton_alpha_err': alpha_C_err,  ## Comptonized model \n",
    "                        'Band_E0_err': E0_Band_err, 'Band_alpha_err': alpha_Band_err, \n",
    "                        'Band_beta_err': beta_Band_err, ## Band model \n",
    "                        'Log_b_err': b_Log_err, 'Log_Ep_err': Ep_Log_err, ## Log Parabola model \n",
    "                        'Add_Fluence_err': Flu_add_err, ## additional components \n",
    "                        'Plaw_alpha_err': alpha_Plaw_err, 'Plaw_Cut_err': Ec_Plaw_err \n",
    "                                   }))\n",
    "GRB_EXT.to_csv('Kataloge/GRBs_Joint_Interval.csv',sep=' ',decimal=',')"
   ]
  },
  {
   "cell_type": "code",
   "execution_count": 17,
   "metadata": {
    "collapsed": true
   },
   "outputs": [],
   "source": [
    "Names = np.array(['GRB080916', 'GRb090510', 'GRB090902'])\n",
    "\n",
    "Flux = np.array([500,3900,600])*1e-5 # Flux \n",
    "Flux_err = np.array([100,600,100])\n",
    "\n",
    "# Simple Powerlae \n",
    "t_peak = np.array([6.6,0.9,9])\n",
    "t_peak_err = np.array([0.9,0.1,1])\n",
    "alpha_peak = np.array([1.37,1.8,1.56])\n",
    "alpha_peak_err = np.array([0.07,0.2,0.06])\n",
    "alpha_t95 = np.array([1.8,1.82,1.4])\n",
    "alpha_t95_err = np.array([0.3,0.2,0.1])\n",
    "\n",
    "# Broken Powerlaw\n",
    "alpha_1 = np.array([0,2.2,1.7])\n",
    "alpha_1_err = np.array([0,0.1,0.2])\n",
    "alpha_2 = np.array([0,1.1,0.8])\n",
    "alpha_2_err = np.array([0,0.1,0.2])\n",
    "t_break = np.array([0,7,130])\n",
    "t_break_err = np.array([0,1,50])\n",
    "                  \n",
    "# late decay time\n",
    "t_late_decay = np.array([1.8,1.1,0.8])\n",
    "t_late_decay_err  = np.array([0.3,0.1,0.2])\n",
    "                  \n",
    "\n",
    "GRB_Light = pd.DataFrame(OrderedDict({'Name': Names,'Flux': Flux,'Flux_err': Flux_err,\n",
    "                        't_peak': t_peak, 't_peak_err': t_peak_err , \n",
    "                        'alpha_peak': alpha_peak, 'alpha_peak_err': alpha_peak_err,\n",
    "                        'alpha_t95': alpha_t95, 'alpha_t95_err': alpha_t95_err, ## Band model \n",
    "                        'alpha_1': alpha_1, 'alpha_1_err': alpha_1_err, ## Log Parabola model \n",
    "                        'alpha_2': alpha_2, 'alpha_2_err': alpha_2_err, ## additional components \n",
    "                        't_break': t_break, 't_break_err': t_break_err ,\n",
    "                        't_decay' : t_late_decay, 't_decay_err': t_late_decay_err \n",
    "\n",
    "                                   }))\n",
    "GRB_Light.to_csv('Kataloge/Lightcurve_Fit.csv',sep=' ',decimal=',')"
   ]
  },
  {
   "cell_type": "markdown",
   "metadata": {},
   "source": [
    "## Test davon "
   ]
  },
  {
   "cell_type": "code",
   "execution_count": 79,
   "metadata": {},
   "outputs": [
    {
     "data": {
      "text/html": [
       "<div>\n",
       "<style>\n",
       "    .dataframe thead tr:only-child th {\n",
       "        text-align: right;\n",
       "    }\n",
       "\n",
       "    .dataframe thead th {\n",
       "        text-align: left;\n",
       "    }\n",
       "\n",
       "    .dataframe tbody tr th {\n",
       "        vertical-align: top;\n",
       "    }\n",
       "</style>\n",
       "<table border=\"1\" class=\"dataframe\">\n",
       "  <thead>\n",
       "    <tr style=\"text-align: right;\">\n",
       "      <th></th>\n",
       "      <th>Unnamed: 0</th>\n",
       "      <th>Name</th>\n",
       "      <th>Best_Fit</th>\n",
       "      <th>Time</th>\n",
       "      <th>Main_Fluence</th>\n",
       "      <th>Compton_E0</th>\n",
       "      <th>Compton_alpha</th>\n",
       "      <th>Band_E0</th>\n",
       "      <th>Band_alpha</th>\n",
       "      <th>Band_beta</th>\n",
       "      <th>Log_b</th>\n",
       "      <th>Log_Ep</th>\n",
       "      <th>Add_Fluence</th>\n",
       "      <th>Plaw_alpha</th>\n",
       "      <th>Plaw_Cut</th>\n",
       "    </tr>\n",
       "  </thead>\n",
       "  <tbody>\n",
       "    <tr>\n",
       "      <th>2</th>\n",
       "      <td>2</td>\n",
       "      <td>GRB090926</td>\n",
       "      <td>Band+Plaw*Cut</td>\n",
       "      <td>12.6</td>\n",
       "      <td>79641.656446</td>\n",
       "      <td>0</td>\n",
       "      <td>0.0</td>\n",
       "      <td>188</td>\n",
       "      <td>-0.64</td>\n",
       "      <td>-2.63</td>\n",
       "      <td>0.0</td>\n",
       "      <td>0</td>\n",
       "      <td>33891.394554</td>\n",
       "      <td>1.76</td>\n",
       "      <td>1513</td>\n",
       "    </tr>\n",
       "  </tbody>\n",
       "</table>\n",
       "</div>"
      ],
      "text/plain": [
       "   Unnamed: 0       Name       Best_Fit  Time  Main_Fluence  Compton_E0  \\\n",
       "2           2  GRB090926  Band+Plaw*Cut  12.6  79641.656446           0   \n",
       "\n",
       "   Compton_alpha  Band_E0  Band_alpha  Band_beta  Log_b  Log_Ep   Add_Fluence  \\\n",
       "2            0.0      188       -0.64      -2.63    0.0       0  33891.394554   \n",
       "\n",
       "   Plaw_alpha  Plaw_Cut  \n",
       "2        1.76      1513  "
      ]
     },
     "execution_count": 79,
     "metadata": {},
     "output_type": "execute_result"
    }
   ],
   "source": [
    "GRB_EXT = pd.read_csv('Kataloge/GRBs_Joint_Interval.csv',sep=' ',decimal=',')\n",
    "GRB = GRB_EXT[GRB_EXT['Name'].str.contains('GRB090926')]\n",
    "\n",
    "index = GRB.iloc[0][0]\n",
    "Delta_t = GRB['Time'][index]## Time between LAT T05 and GBM T95\n",
    "BF = GRB['Best_Fit'][index]    ## Best Fit\n",
    "MFluence = GRB['Main_Fluence'][index] \n",
    "BE0 = GRB['Band_E0'][index] ; BA = GRB['Band_alpha'][index] ; BB = GRB['Band_beta'][index]\n",
    "\n",
    "\n",
    "GRB"
   ]
  },
  {
   "cell_type": "code",
   "execution_count": 19,
   "metadata": {},
   "outputs": [
    {
     "name": "stderr",
     "output_type": "stream",
     "text": [
      "/home/jana/anaconda3/lib/python3.6/site-packages/ipykernel_launcher.py:3: UserWarning: Boolean Series key will be reindexed to match DataFrame index.\n",
      "  This is separate from the ipykernel package so we can avoid doing imports until\n"
     ]
    },
    {
     "data": {
      "text/html": [
       "<div>\n",
       "<style>\n",
       "    .dataframe thead tr:only-child th {\n",
       "        text-align: right;\n",
       "    }\n",
       "\n",
       "    .dataframe thead th {\n",
       "        text-align: left;\n",
       "    }\n",
       "\n",
       "    .dataframe tbody tr th {\n",
       "        vertical-align: top;\n",
       "    }\n",
       "</style>\n",
       "<table border=\"1\" class=\"dataframe\">\n",
       "  <thead>\n",
       "    <tr style=\"text-align: right;\">\n",
       "      <th></th>\n",
       "      <th>Unnamed: 0</th>\n",
       "      <th>Name</th>\n",
       "      <th>Flux</th>\n",
       "      <th>Flux_err</th>\n",
       "      <th>t_peak</th>\n",
       "      <th>t_peak_err</th>\n",
       "      <th>alpha_peak</th>\n",
       "      <th>alpha_peak_err</th>\n",
       "      <th>alpha_t95</th>\n",
       "      <th>alpha_t95_err</th>\n",
       "      <th>alpha_1</th>\n",
       "      <th>alpha_1_err</th>\n",
       "      <th>alpha_2</th>\n",
       "      <th>alpha_2_err</th>\n",
       "      <th>t_break</th>\n",
       "      <th>t_break_err</th>\n",
       "      <th>t_decay</th>\n",
       "      <th>t_decay_err</th>\n",
       "    </tr>\n",
       "  </thead>\n",
       "  <tbody>\n",
       "    <tr>\n",
       "      <th>0</th>\n",
       "      <td>0</td>\n",
       "      <td>GRB080916</td>\n",
       "      <td>500</td>\n",
       "      <td>100</td>\n",
       "      <td>6.6</td>\n",
       "      <td>0.9</td>\n",
       "      <td>1.37</td>\n",
       "      <td>0.07</td>\n",
       "      <td>1.80</td>\n",
       "      <td>0.3</td>\n",
       "      <td>0.0</td>\n",
       "      <td>0.0</td>\n",
       "      <td>0.0</td>\n",
       "      <td>0.0</td>\n",
       "      <td>0</td>\n",
       "      <td>0</td>\n",
       "      <td>1.8</td>\n",
       "      <td>0.3</td>\n",
       "    </tr>\n",
       "    <tr>\n",
       "      <th>1</th>\n",
       "      <td>1</td>\n",
       "      <td>GRb090510</td>\n",
       "      <td>3900</td>\n",
       "      <td>600</td>\n",
       "      <td>0.9</td>\n",
       "      <td>0.1</td>\n",
       "      <td>1.80</td>\n",
       "      <td>0.20</td>\n",
       "      <td>1.82</td>\n",
       "      <td>0.2</td>\n",
       "      <td>2.2</td>\n",
       "      <td>0.1</td>\n",
       "      <td>1.1</td>\n",
       "      <td>0.1</td>\n",
       "      <td>7</td>\n",
       "      <td>1</td>\n",
       "      <td>1.1</td>\n",
       "      <td>0.1</td>\n",
       "    </tr>\n",
       "    <tr>\n",
       "      <th>2</th>\n",
       "      <td>2</td>\n",
       "      <td>GRB090902</td>\n",
       "      <td>600</td>\n",
       "      <td>100</td>\n",
       "      <td>9.0</td>\n",
       "      <td>1.0</td>\n",
       "      <td>1.56</td>\n",
       "      <td>0.06</td>\n",
       "      <td>1.40</td>\n",
       "      <td>0.1</td>\n",
       "      <td>1.7</td>\n",
       "      <td>0.2</td>\n",
       "      <td>0.8</td>\n",
       "      <td>0.2</td>\n",
       "      <td>130</td>\n",
       "      <td>50</td>\n",
       "      <td>0.8</td>\n",
       "      <td>0.2</td>\n",
       "    </tr>\n",
       "  </tbody>\n",
       "</table>\n",
       "</div>"
      ],
      "text/plain": [
       "   Unnamed: 0       Name  Flux  Flux_err  t_peak  t_peak_err  alpha_peak  \\\n",
       "0           0  GRB080916   500       100     6.6         0.9        1.37   \n",
       "1           1  GRb090510  3900       600     0.9         0.1        1.80   \n",
       "2           2  GRB090902   600       100     9.0         1.0        1.56   \n",
       "\n",
       "   alpha_peak_err  alpha_t95  alpha_t95_err  alpha_1  alpha_1_err  alpha_2  \\\n",
       "0            0.07       1.80            0.3      0.0          0.0      0.0   \n",
       "1            0.20       1.82            0.2      2.2          0.1      1.1   \n",
       "2            0.06       1.40            0.1      1.7          0.2      0.8   \n",
       "\n",
       "   alpha_2_err  t_break  t_break_err  t_decay  t_decay_err  \n",
       "0          0.0        0            0      1.8          0.3  \n",
       "1          0.1        7            1      1.1          0.1  \n",
       "2          0.2      130           50      0.8          0.2  "
      ]
     },
     "execution_count": 19,
     "metadata": {},
     "output_type": "execute_result"
    }
   ],
   "source": [
    "from uncertainties import ufloat\n",
    "Light = pd.read_csv('Kataloge/Lightcurve_Fit.csv',sep=' ',decimal=',')\n",
    "GRB = Light[GRB_EXT['Name'].str.contains('GRB090926')]\n",
    "index = GRB.iloc[0][0]\n",
    "Fp = ufloat(GRB['Flux'][index],GRB['Flux_err'][index])\n",
    "Light"
   ]
  },
  {
   "cell_type": "markdown",
   "metadata": {},
   "source": [
    "#  -------------------------------------------------------------------------------------------------------------------\n",
    "# *I*nstrument *R*esponse *F*unctions von CTA\n",
    "\n",
    "GRBs dauern nach unten aufgeführten Katalogen einige Millisekunden bis im Katalog maximal 460 Sekunden. \n",
    "Daher kommen die beiden IRFs infrage, die 100 s oder 30 m annehmen. \n",
    "Dazu wird im CTA Paper ein Zenitwinkel von 20°  und die **Array-Konfiguration E** angegeben. <br>\n",
    "_[Bernlöhr](https://arxiv.org/abs/1210.3503)_ geht auf die verschiedenen Konfigurationen ein, wobei **E** ein balanced Array bildet, in dem jede Teleskopart verwendet wird. Einschränkungen auf LST/MST/SST fallen somit weg. <br>\n",
    "\n",
    "Es stehen damit zur Wahl: \n",
    "-  South_z20_average_30m \n",
    "-  South_z20_average_100s \n",
    "-  South_z20_average_TS_30m \n",
    "-  South_z20_average_TS_100s\n",
    "\n",
    "\n",
    "Vorerst wird nur mit den 100 s gearbeitet, da die von anderen genutzten GRBS ca. 19 und 63 Sekunden als T90 Zeit bei Fermi hatten"
   ]
  },
  {
   "cell_type": "code",
   "execution_count": 3,
   "metadata": {
    "scrolled": true
   },
   "outputs": [
    {
     "data": {
      "image/png": "[encoded data removed]",
      "text/plain": [
       "<matplotlib.figure.Figure at 0x7f517dc49c18>"
      ]
     },
     "metadata": {},
     "output_type": "display_data"
    },
    {
     "data": {
      "image/png": "[encoded data removed]",
      "text/plain": [
       "<matplotlib.figure.Figure at 0x7f5179e99908>"
      ]
     },
     "metadata": {},
     "output_type": "display_data"
    }
   ],
   "source": [
    "cta_perf = fits.open('IRFs/South_z20_average_100s/irf_file.fits')\n",
    "A_eff_1 = cta_perf['EFFECTIVE AREA']\n",
    "ang_res_1 = cta_perf['POINT SPREAD FUNCTION']\n",
    "bg_rate_1 = cta_perf['BACKGROUND']\n",
    "\n",
    "a_eff_1 = pd.DataFrame({\"E_TeV\": (A_eff_1.data['ENERG_LO'][0] + A_eff_1.data['ENERG_HI'][0])/2,\n",
    "                                    \"A_eff\": A_eff_1.data['EFFAREA'][0][4]})\n",
    "\n",
    "plt.plot(a_eff_1['E_TeV'], a_eff_1['A_eff'], '+', color='crimson')\n",
    "plt.xscale('log'), plt.yscale('log'), plt.xlabel('Energy / TeV'), plt.ylabel(r'$A_{\\mathrm{eff}}$ / m²')\n",
    "plt.show() \n",
    "\n",
    "''''''''\n",
    "... \n",
    "''''''''\n",
    "\n",
    "cta_perf_fits_2 = fits.open('IRFs/South_z20_average_TS_100s/irf_file.fits')\n",
    "A_eff_2 = cta_perf_fits_2['EFFECTIVE AREA']\n",
    "ang_res_2 = cta_perf_fits_2['POINT SPREAD FUNCTION']\n",
    "bg_rate_2 = cta_perf_fits_2['BACKGROUND']\n",
    "\n",
    "a_eff_2 = pd.DataFrame({\"E_TeV\": (A_eff_2.data['ENERG_LO'][0] + A_eff_2.data['ENERG_HI'][0])/2,\n",
    "                                    \"A_eff\": A_eff_2.data['EFFAREA'][0][3]})\n",
    "\n",
    "plt.plot(a_eff_2['E_TeV'], a_eff_2['A_eff'], '+', color='crimson')\n",
    "plt.xscale('log'), plt.yscale('log'), plt.xlabel('Energy / TeV'), plt.ylabel(r'$A_{\\mathrm{eff}}$ / m²')\n",
    "plt.show() "
   ]
  },
  {
   "cell_type": "code",
   "execution_count": null,
   "metadata": {
    "collapsed": true
   },
   "outputs": [],
   "source": []
  },
  {
   "cell_type": "markdown",
   "metadata": {},
   "source": [
    "## Erstellung von EBL csv nach Franscheschini"
   ]
  },
  {
   "cell_type": "code",
   "execution_count": 5,
   "metadata": {
    "collapsed": true
   },
   "outputs": [],
   "source": [
    "A1 = np.array([0.0000,0.0000,0.0000,0.0000,0.0000,0.0000,1.0976E-04,3.0882E-04,6.5619E-04,1.2130E-03,2.1063E-03\n",
    ",3.5291E-03,5.7051E-03,8.9183E-03,1.3517E-02,1.9793E-02,2.7938E-02,3.7957E-02,4.9558E-02\n",
    ",6.2291E-02,7.5753E-02,8.9194E-02,0.1019,0.1136,0.1240,0.1329,0.1409,0.1486,0.1579,0.1710\n",
    ",0.1896,0.2162,0.2512,0.3017,0.3732,0.4795,0.6455,0.8984,1.297,1.917,2.856,4.211,6.038,8.285\n",
    ",10.82,13.48,16.04,18.24,20.01,21.20])\n",
    "A2 = np.array([0.0000,0.0000,0.0000,0.0000,0.0000,9.445E-05,4.241E-04,1.103E-03,2.258E-03,4.097E-03,7.039E-03\n",
    ",1.167E-02,1.872E-02,2.907E-02,4.378E-02,6.367E-02,8.935E-02,0.1205,0.1563,0.1953,0.2364,0.2768\n",
    ",0.3152,0.3501,0.3810,0.4076,0.4318,0.4560,0.4863,0.5284,0.5887,0.6732,0.7847,0.9447,1.171,1.513\n",
    ",2.048,2.871,4.162,6.177,9.181,13.47,19.14,26.00,33.59,41.42,48.81,54.98,59.82,63.03])\n",
    "A3 = np.array([0.0000,0.0000,0.0000,0.0000,5.254E-05,5.408E-04,1.915E-03,4.548E-03,8.903E-03,1.582E-02,2.685E-02,4.406E-02\n",
    ",7.010E-02,0.1082,0.1618,0.2338,0.3256,0.4356,0.5607,0.6961,0.8373,0.9750,1.105,1.223,1.327,1.419,1.504,1.596,1.714\n",
    ",1.879,2.113,2.431,2.858,3.464,4.334,5.663,7.723,10.93,15.99,23.86,35.47,51.78,72.76,97.51,124.3,151.2,175.8,195.8\n",
    ",210.8,219.8])\n",
    "A4 = np.array([0.000000,0.000000,0.000000,0.000488,0.002276,0.006575,0.014592,0.02771,0.04808,0.07958,0.1284,0.2031\n",
    ",0.3134,0.4696,0.6809,0.9517,1.281,1.661,2.082,2.524,2.967,3.389,3.779,4.129,4.444,4.747,5.079,5.498,6.075,6.875,7.952\n",
    ",9.421,11.45,14.41,18.87,25.76,36.60,53.79,80.41,119.9,174.8,245.0,327.4,416.9,506.3,587.7,655.4,705.7,735.5,744.0])\n",
    "\n",
    "A5 = np.array([0.0000021,0.000188,0.001304,0.004558,0.01157,0.02436,0.04512,0.07684,0.1248,0.1984,0.3109,0.4780,0.7163\n",
    ",1.040,1.461,1.981,2.594,3.284,4.023,4.779,5.517,6.210,6.846,7.432,8.010,8.652,9.452,10.52,11.96,13.92,16.57,20.24\n",
    ",25.57,33.52,45.81,65.21,95.98,143.7,214.3,311.5,435.3,580.9,739.9,899.0,1045.,1169.,1263.,1320.,1340.,1340.])\n",
    "A6 = np.array([0.004933,0.01284,0.0279,0.0533,0.0921,0.1480,0.2275,0.3430,0.5137,0.7640,1.120,1.607,2.247,3.056,4.042\n",
    ",5.192,6.474,7.836,9.214,10.55,11.82,13.03,14.29,15.73,17.54,19.87,22.96,27.08,32.66,40.39,51.39,67.70,92.73,132.2,195.0\n",
    ",292.5,435.4,630.5,878.2,1172,1494,1824,2134,2403,2616,2756,2823,2823,2823,2823])\n",
    "A7 = np.array([0.0399,0.0718,0.1188,0.1833,0.2689,0.3836,0.5434,0.7707,1.092,1.537,2.133,2.905,3.875,5.055,6.438,7.989\n",
    ",9.650,11.34,13.01,14.63,16.25,18.04,20.21,22.98,26.58,31.31,37.67,46.30,58.24,75.45,101.3,141.4,204.9,304.3,454.1,666.6\n",
    ",948.5,1299,1705,2145,2587,3004,3362,3638,3825,3915,3915,3915,3915,3915])\n",
    "A8 = np.array([0.1157,0.1783,0.2598,0.3635,0.4967,0.6745,0.9179,1.251,1.703,2.302,3.073,4.042,5.225,6.627,8.226,9.977\n",
    ",11.81,13.67,15.51,17.39,19.49,22.02,25.22,29.37,34.78,41.95,51.72,65.17,84.48,113.2,157.7,227.3,335.3,496.4,724.1,1027\n",
    ",1407,1852,2339,2843,3323,3752,4102,4352,4499,4540,4540,4540,4540,4540])\n",
    "A9 = np.array([0.2596,0.3635,0.4919,0.6517,0.8548,1.118,1.465,1.917,2.503,3.249,4.181,5.318,6.673,8.241,9.997,11.89,13.89\n",
    ",15.93,18.08,20.45,23.27,26.81,31.33,37.23,45.09,55.80,70.71,92.14,124.0,172.1,245.9,357.0,519.3,747.0,1048\n",
    ",1426,1873,2372,2897,3412,3887,4303,4618,4835,4940,4945,4945,4945,4945,4945])\n",
    "\n",
    "EBL = pd.DataFrame({'Z1': A1, 'Z2': A2,'Z3': A3, 'Z4': A4, 'Z5': A5, 'Z6':A6, 'Z7': A7, 'Z8':A8, 'Z9': A9})\n",
    "EBL.to_csv('EBL/EBL_Franceschini.csv',sep=' ',decimal=',', header=None)"
   ]
  },
  {
   "cell_type": "markdown",
   "metadata": {},
   "source": [
    "## Modell, welches Felix nutzt"
   ]
  },
  {
   "cell_type": "code",
   "execution_count": null,
   "metadata": {
    "collapsed": true
   },
   "outputs": [],
   "source": []
  },
  {
   "cell_type": "markdown",
   "metadata": {},
   "source": [
    "### Selbst implementierte numerisch Integrationsverfahren "
   ]
  },
  {
   "cell_type": "code",
   "execution_count": 5,
   "metadata": {
    "collapsed": true
   },
   "outputs": [],
   "source": [
    "def Trapezregel(Integrand,untere_Grenze, obere_Grenze, Anzahl_Intervalle,params):  \n",
    "    result = 0;\n",
    "    Schrittweite = (obere_Grenze - untere_Grenze)/Anzahl_Intervalle; \n",
    "    for i  in range(1,Anzahl_Intervalle - 1):\n",
    "        result += Integrand(untere_Grenze + i*Schrittweite,*params);        \n",
    "    result = Schrittweite*result + (Schrittweite/2)*(Integrand(untere_Grenze,*params) + Integrand(obere_Grenze,*params));\n",
    "    return result;\n",
    "\n",
    "def Mittelpunktsregel(Integrand, untere_Grenze,obere_Grenze,Anzahl_Intervalle,params):\n",
    "    result = 0;\n",
    "    Schrittweite = (obere_Grenze - untere_Grenze)/Anzahl_Intervalle;\n",
    "    for i in range(1,Anzahl_Intervalle): \n",
    "        result += Schrittweite* Integrand((2*untere_Grenze + (2*i-1)*Schrittweite)/2,*params);\n",
    "    return result;  \n",
    " \n",
    " \n",
    "def Simpsonregel(Integrand, untere_Grenze, obere_Grenze, Anzahl_Intervalle,params):\n",
    "    Summand1 = 0; Summand2 = 0;\n",
    "    Schrittweite = (obere_Grenze - untere_Grenze)/Anzahl_Intervalle;\n",
    "    for k in range(1,Anzahl_Intervalle-1):\n",
    "        Summand1 += 2*Integrand(untere_Grenze + k*Schrittweite,*params);\n",
    "    for k in range(1,Anzahl_Intervalle):\n",
    "        Summand2 += 4*Integrand((2*untere_Grenze + (2*k-1)*Schrittweite)/2,*params);\n",
    "    result = (Schrittweite/6)*(Integrand(untere_Grenze,*params) + Integrand(obere_Grenze,*params) + Summand1 + Summand2);    \n",
    "    return result;"
   ]
  },
  {
   "cell_type": "markdown",
   "metadata": {},
   "source": [
    "## Test von Integrationsroutinen\n",
    "\n",
    "Test anhand von GRB 090902:\n",
    "- E0_Compton = 531 keV \n",
    "- Alpha_Compton = 0.62 \n",
    "- Alpha_Plaw = 1.94 "
   ]
  },
  {
   "cell_type": "code",
   "execution_count": 39,
   "metadata": {},
   "outputs": [
    {
     "data": {
      "text/plain": [
       "array(6.958750970637272+/-0.06958750970637272, dtype=object)"
      ]
     },
     "execution_count": 39,
     "metadata": {},
     "output_type": "execute_result"
    }
   ],
   "source": [
    "from uncertainties import ufloat\n",
    "from uncertainties import unumpy as unp\n",
    "E0 = ufloat(531,10)\n",
    "a = ufloat(0.62,0.01)\n",
    "alpha = ufloat(1.94,0.01) \n",
    "\n",
    "alpha.s\n",
    "unp.exp(alpha)"
   ]
  },
  {
   "cell_type": "code",
   "execution_count": 40,
   "metadata": {
    "collapsed": true
   },
   "outputs": [],
   "source": [
    "import math \n",
    "def Plaw_LAT(E,K,Alpha,Integrate):\n",
    "    if Integrate ==False:\n",
    "        return K*(E)**(-Alpha)\n",
    "    if Integrate ==True:\n",
    "        return K*(E)**(-Alpha)*E\n",
    "@np.vectorize\n",
    "def Bandfunc_LAT(E,A,alpha,beta,E0,Integrate):\n",
    "    if Integrate == True:\n",
    "        if E<=(alpha-beta)*E0:\n",
    "            return A*(E)**(alpha)*math.exp(-E/E0)*E\n",
    "        else:\n",
    "            return A*(E)**(beta)*math.exp(beta-alpha)*((alpha-beta)*E0)**(alpha-beta)*E\n",
    "    if Integrate == False:\n",
    "        if E<=(alpha-beta)*E0:\n",
    "            return A*(E)**(alpha)*math.exp(-E/E0)\n",
    "        else:\n",
    "            return A*(E)**(beta)*math.exp(beta-alpha)*((alpha-beta)*E0)**(alpha-beta)    \n",
    "@np.vectorize\n",
    "def Componized_LAT(E,A,E0,alpha,Integrate): \n",
    "    if Integrate == True:\n",
    "        return A*(E)**(-alpha)*unp.exp(-E/E0)*E\n",
    "    else:\n",
    "        return A*(E)**(-alpha)*unp.exp(-E/E0)\n",
    "    \n",
    "def LogParabola_LAT(E,Sp,Ep,b,Integrate): #Sp describes the Fluence\n",
    "    if Integrate == True:\n",
    "        return Sp/(E*E)*10**(-b*np.log(E/(Ep*Ep)))*E\n",
    "    else:\n",
    "         return Sp/(E*E)*10**(-b*np.log(E/(Ep*Ep)))"
   ]
  },
  {
   "cell_type": "code",
   "execution_count": 41,
   "metadata": {},
   "outputs": [
    {
     "data": {
      "text/plain": [
       "(1.4455810421009683, 4.506185430173758e-11)"
      ]
     },
     "execution_count": 41,
     "metadata": {},
     "output_type": "execute_result"
    }
   ],
   "source": [
    "K = ufloat(1,0)\n",
    "Plaw_LAT(5,K,alpha,False)\n",
    "quad(Plaw_LAT,1,4,args=(K.n,alpha.n,True))"
   ]
  },
  {
   "cell_type": "markdown",
   "metadata": {},
   "source": [
    "Im Code in Spectra_LAT.py werden Fitting models mithilfe von Quad integriert, Form sieht so aus: <br> \n",
    "    **Integral = quad(Componized_LAT,10,10*1e6,args=(1,E0,Alpha))[0]** \n",
    "([0], weil Quad den Integralwert und den Fehler darauf ausgibt) \n",
    "\n",
    "## 1. Comptonized\n"
   ]
  },
  {
   "cell_type": "code",
   "execution_count": 42,
   "metadata": {},
   "outputs": [
    {
     "data": {
      "text/plain": [
       "(5103.23095024099, 4.416299090591086e-07)"
      ]
     },
     "execution_count": 42,
     "metadata": {},
     "output_type": "execute_result"
    }
   ],
   "source": [
    "from scipy.integrate import quad\n",
    "import os\n",
    "beep = lambda x: os.system(\"echo -n '\\a';sleep 0.2;\" * x) \n",
    "\n",
    "I_C_quad = quad(Componized_LAT,10,10e6,args=(1,E0.n,a.n,True))\n",
    "\n",
    "from scipy.special import gammainc\n",
    "def Wolfram_Compton(E,Ez,Alpha):\n",
    "    return Ez**(2-Alpha)*gammainc(2-Alpha,E/Ez)\n",
    "I_C_Wolfram = Wolfram_Compton(10e6,E0.n,a.n)-Wolfram_Compton(10,E0.n,a.n)\n",
    "\n",
    "I_C_quad"
   ]
  },
  {
   "cell_type": "markdown",
   "metadata": {},
   "source": [
    "###  Folgende Ausführung dauert bei entsprechend großer Schrittanzahl... "
   ]
  },
  {
   "cell_type": "code",
   "execution_count": 24,
   "metadata": {},
   "outputs": [
    {
     "data": {
      "text/plain": [
       "0"
      ]
     },
     "execution_count": 24,
     "metadata": {},
     "output_type": "execute_result"
    }
   ],
   "source": [
    "I_C_Trap = Trapezregel(Componized_LAT,10,10e6,10000,[1,E0.n,a.n,True]) # ca. 12 Minuten bei 10e6 Iterationen \n",
    "beep(2)\n",
    "I_C_Mittel =Mittelpunktsregel(Componized_LAT,10,10e6,10000,[1,E0.n,a.n,True]) # ca. 9 Minuten bei 10e6 Iterationen \n",
    "beep(4)\n",
    "I_C_Simps = Simpsonregel(Componized_LAT,10,10e6,10000,[1,E0.n,a.n,True]) # ca. Minuten bei 10e6 Iterationen, da alles doppelt läuft \n",
    "beep(6)"
   ]
  },
  {
   "cell_type": "code",
   "execution_count": 9,
   "metadata": {},
   "outputs": [
    {
     "data": {
      "image/png": "[encoded data removed]",
      "text/plain": [
       "<matplotlib.figure.Figure at 0x7fdf43287a20>"
      ]
     },
     "metadata": {},
     "output_type": "display_data"
    }
   ],
   "source": [
    "#plt.plot([1,2,3,4,5], [I_C_quad,I_C_Wolfram,I_C_Trap,I_C_Mittel,I_C_Simps],'*')\n",
    "plt.plot(1,I_C_quad, '*', label='Scipy Quad Funktion in Standardeinstellungen')\n",
    "plt.plot(2,I_C_Wolfram, '*', label='Wolfram Alpha Ergebnis des unbestimmten Integrals')\n",
    "plt.plot(3,I_C_Trap, '*', label='Numerische Integration mit Trapezregel, 10e6 Schritte')\n",
    "plt.plot(4,I_C_Mittel, '*', label='Numerische Integration mit Mittelpunktszregel, 10e6 Schritte')\n",
    "plt.plot(5,I_C_Simps, '*', label='Numerische Integration mit Simpsonregel, 10e6 Schritte')\n",
    "plt.legend(fontsize = 'small')\n",
    "plt.ylabel('Integralwert')\n",
    "plt.savefig('Plots/Beste_Integration_Compton.pdf')\n",
    "plt.show()"
   ]
  },
  {
   "cell_type": "code",
   "execution_count": 84,
   "metadata": {},
   "outputs": [
    {
     "data": {
      "text/plain": [
       "<matplotlib.collections.PolyCollection at 0x7f5ad8308b00>"
      ]
     },
     "execution_count": 84,
     "metadata": {},
     "output_type": "execute_result"
    },
    {
     "data": {
      "image/png": "[encoded data removed]",
      "text/plain": [
       "<matplotlib.figure.Figure at 0x7f5ad83e2d68>"
      ]
     },
     "metadata": {},
     "output_type": "display_data"
    }
   ],
   "source": [
    "Integral = ufloat(I_C_quad[0],I_C_quad[1]) \n",
    "MFluence = ufloat(3057,25)\n",
    "Delt = 17 \n",
    "MFl = MFluence/(Delt*Integral)   ## Calculate Flux = true k\n",
    "E_lines = np.linspace(1,5,20)\n",
    "Fitpoints = unp.uarray(np.zeros(len(E_lines)),np.zeros(len(E_lines)))\n",
    "Fitpoints = Componized_LAT(E_lines,MFl,E0,alpha,False)\n",
    "#plt.plot(E_lines, Componized_LAT(E_lines,MFl,E0,alpha,False),  '--',color='crimson')\n",
    "unp.nominal_values(Fitpoints)\n",
    "%matplotlib inline\n",
    "plt.plot(E_lines,unp.nominal_values(Fitpoints),'-')\n",
    "plt.fill_between(E_lines,unp.nominal_values(Fitpoints)-100*unp.std_devs(Fitpoints),unp.nominal_values(Fitpoints)+100*unp.std_devs(Fitpoints),alpha=0.2)\n"
   ]
  },
  {
   "cell_type": "markdown",
   "metadata": {},
   "source": [
    "## 2. Powerlaw"
   ]
  },
  {
   "cell_type": "code",
   "execution_count": 10,
   "metadata": {
    "collapsed": true
   },
   "outputs": [],
   "source": [
    "I_P_quad_6 = quad(Plaw_LAT,10,10e6,args=(1,alpha,True), limit=100000)[0]\n",
    "\n",
    "def Wolfram_Powerlaw(E,Alpha): ## bzw. das geht ja auch analytisch \n",
    "    return 1/(2-Alpha)*(E)**(2-Alpha)\n",
    "I_P_Wolfram = Wolfram_Powerlaw(10e6,alpha)-Wolfram_Powerlaw(10,alpha)\n",
    "\n",
    "I_P_Trap = Trapezregel(Plaw_LAT,10,10e6,10000000,[1,alpha,True])\n",
    "\n",
    "I_P_Mittel = Mittelpunktsregel(Plaw_LAT,10,10e6,10000000,[1,alpha,True])\n",
    "\n",
    "I_P_Simps= Simpsonregel(Plaw_LAT,10,10e6,10000000,[1,alpha,True])"
   ]
  },
  {
   "cell_type": "code",
   "execution_count": 11,
   "metadata": {},
   "outputs": [
    {
     "data": {
      "image/png": "[encoded data removed]",
      "text/plain": [
       "<matplotlib.figure.Figure at 0x7fdf38fde4e0>"
      ]
     },
     "metadata": {},
     "output_type": "display_data"
    }
   ],
   "source": [
    "plt.plot(1,I_P_quad_6, '*', label='Scipy Quad Funktion mit oberer Grenze bei 10e6')\n",
    "plt.plot(2,I_P_Wolfram, '*', label='Wolfram Alpha Ergebnis des unbestimmten Integrals')\n",
    "plt.plot(3,I_P_Trap, '*', label='Numerische Integration mit Trapezregel, 10e6 Schritte')\n",
    "plt.plot(4,I_P_Mittel, '*', label='Numerische Integration mit Mittelpunktszregel, 10e6 Schritte')\n",
    "plt.plot(5,I_P_Simps, '*', label='Numerische Integration mit Simpsonregel, 10e6 Schritte')\n",
    "plt.legend(fontsize = 'small',loc='upper right', bbox_to_anchor=(0.885, 1.42))\n",
    "plt.ylabel('Integralwert')\n",
    "ax = plt.gca()\n",
    "ax.ticklabel_format(useOffset=False)\n",
    "plt.savefig('Plots/Beste_Integration_Powerlaw_zoom.pdf',bbox_inches='tight')\n",
    "plt.show()"
   ]
  },
  {
   "cell_type": "markdown",
   "metadata": {},
   "source": [
    "## 3. Bandfunction,\n",
    "hier neue Beispielquelle notwendig: GRB090926A\n",
    "- E0 = 188 KeV\n",
    "- $\\alpha$ = -0.64\n",
    "- $\\beta$ = -2.62 "
   ]
  },
  {
   "cell_type": "code",
   "execution_count": 158,
   "metadata": {},
   "outputs": [
    {
     "data": {
      "text/plain": [
       "491.92"
      ]
     },
     "execution_count": 158,
     "metadata": {},
     "output_type": "execute_result"
    }
   ],
   "source": [
    "E0 = 188\n",
    "alpha = -0.64\n",
    "beta = -2.62\n",
    "\n",
    "alpha-beta*E0"
   ]
  },
  {
   "cell_type": "code",
   "execution_count": 163,
   "metadata": {},
   "outputs": [
    {
     "data": {
      "text/plain": [
       "nan"
      ]
     },
     "execution_count": 163,
     "metadata": {},
     "output_type": "execute_result"
    }
   ],
   "source": [
    "I_B_quad = quad(Bandfunc_LAT,10,10e6,args=(1,alpha,beta,E0,True), limit=100000)\n",
    "\n",
    "def Wolfram_Band(E,alpha,beta,E0): ## bzw. das geht ja auch analytisch \n",
    "    Cut = abs((alpha-beta)*E0)\n",
    "    if E<= Cut:\n",
    "        return -E0**(2+beta)*gammainc(beta+2,E/E0)\n",
    "    if E > Cut:\n",
    "        return 1/(2+beta)*(E)**(2+beta)*math.exp(beta-alpha)*(E0*(alpha-beta))**(alpha-beta)\n",
    "    \n",
    "I_B_Wolfram = Wolfram_Band(10e6,alpha,beta,E0)-Wolfram_Band(10,alpha,beta,E0)\n",
    "beep(2)\n",
    "I_B_Trap = Trapezregel(Bandfunc_LAT,10,10e6,100000,[1,alpha,beta,E0,True])\n",
    "beep(2)\n",
    "I_B_Mittel = Mittelpunktsregel(Bandfunc_LAT,10,10e6,100000,[1,alpha,beta,E0,True])\n",
    "beep(2)\n",
    "I_B_Simps= Simpsonregel(Bandfunc_LAT,10,10e6,100000,[1,alpha,beta,E0,True])\n",
    "beep(2)\n",
    "I_B_Wolfram"
   ]
  },
  {
   "cell_type": "code",
   "execution_count": 164,
   "metadata": {},
   "outputs": [
    {
     "name": "stdout",
     "output_type": "stream",
     "text": [
      "1532.4313674135778 6.77322698822576e-07\n"
     ]
    }
   ],
   "source": [
    "print(I_B_quad[0],I_B_quad[1]) \n",
    "#I_B_quad = I_B_quad[0]"
   ]
  },
  {
   "cell_type": "code",
   "execution_count": 159,
   "metadata": {},
   "outputs": [
    {
     "data": {
      "image/png": "[encoded data removed]",
      "text/plain": [
       "<matplotlib.figure.Figure at 0x7f5ad757ab70>"
      ]
     },
     "metadata": {},
     "output_type": "display_data"
    },
    {
     "data": {
      "text/plain": [
       "nan"
      ]
     },
     "execution_count": 159,
     "metadata": {},
     "output_type": "execute_result"
    }
   ],
   "source": [
    "plt.plot(1,I_B_quad, '*', label='Scipy Quad Funktion, Standardeinstellungen')\n",
    "plt.plot(2,I_B_Wolfram, 'k*', label='Wolfram Alpha Ergebnis des unbestimmten Integrals')\n",
    "plt.plot(3,I_B_Trap, '*', label='Numerische Integration mit Trapezregel, 10e6 Schritte')\n",
    "plt.plot(4,I_B_Mittel, '*', label='Numerische Integration mit Mittelpunktszregel, 10e6 Schritte')\n",
    "plt.plot(5,I_B_Simps, '*', label='Numerische Integration mit Simpsonregel, 10e6 Schritte')\n",
    "plt.arrow(2, 1530.325, 0, 4, head_width=0.05, head_length=0.4, fc='k', ec='k')\n",
    "plt.legend(fontsize = 'small',loc='upper right', bbox_to_anchor=(0.885, 1.42))\n",
    "plt.ylabel('Integralwert')\n",
    "plt.savefig('Plots/Beste_Integration_Bandfunc.pdf',bbox_inches='tight')\n",
    "plt.ylim(1480,1550)\n",
    "plt.show()\n",
    "I_B_Wolfram"
   ]
  },
  {
   "cell_type": "markdown",
   "metadata": {},
   "source": [
    "## 4. Log Parabola \n",
    "\n",
    "Als Beispielquelle dient hier GRB110721A \n",
    "- E$_p$ = 1847 keV\n",
    "- b = 0.28 "
   ]
  },
  {
   "cell_type": "code",
   "execution_count": 27,
   "metadata": {
    "collapsed": true
   },
   "outputs": [],
   "source": [
    "Ep = 1847\n",
    "b = 0.28 "
   ]
  },
  {
   "cell_type": "code",
   "execution_count": 29,
   "metadata": {},
   "outputs": [
    {
     "data": {
      "text/plain": [
       "0"
      ]
     },
     "execution_count": 29,
     "metadata": {},
     "output_type": "execute_result"
    }
   ],
   "source": [
    "I_L_quad = quad(LogParabola_LAT,10,10e6,args=(1,Ep,b,True), limit=100000)[0]\n",
    "\n",
    "def Wolfram_Log(E,Ep,b): ## bzw. das geht ja auch analytisch \n",
    "    return (-10**(-b*np.log(E/(Ep*Ep))))/(b*np.log(10))\n",
    "    \n",
    "I_L_Wolfram = Wolfram_Log(10e6,Ep,b)-Wolfram_Log(10,Ep,b)\n",
    "\n",
    "beep(2)\n",
    "I_L_Trap = Trapezregel(LogParabola_LAT,10,10e6,10000000,[1,Ep,b,True])\n",
    "beep(2)\n",
    "I_L_Mittel = Mittelpunktsregel(LogParabola_LAT,10,10e6,10000000,[1,Ep,b,True])\n",
    "beep(2)\n",
    "I_L_Simps= Simpsonregel(LogParabola_LAT,10,10e6,10000000,[1,Ep,b,True])\n",
    "beep(2)"
   ]
  },
  {
   "cell_type": "code",
   "execution_count": 30,
   "metadata": {},
   "outputs": [
    {
     "data": {
      "image/png": "[encoded data removed]",
      "text/plain": [
       "<matplotlib.figure.Figure at 0x7fdf38ad1b38>"
      ]
     },
     "metadata": {},
     "output_type": "display_data"
    }
   ],
   "source": [
    "plt.plot(1,I_L_quad, '*', label='Scipy Quad Funktion, Standardeinstellungen')\n",
    "plt.plot(2,I_L_Wolfram, '*', label='Wolfram Alpha Ergebnis des unbestimmten Integrals')\n",
    "plt.plot(3,I_L_Trap, '*', label='Numerische Integration mit Trapezregel, 10e6 Schritte')\n",
    "plt.plot(4,I_L_Mittel, '*', label='Numerische Integration mit Mittelpunktszregel, 10e6 Schritte')\n",
    "plt.plot(5,I_L_Simps, '*', label='Numerische Integration mit Simpsonregel, 10e6 Schritte')\n",
    "plt.legend(fontsize = 'small',loc='upper right', bbox_to_anchor=(0.885, 1.42))\n",
    "plt.ylabel('Integralwert')\n",
    "plt.savefig('Plots/Beste_Integration_LogParabola.pdf',bbox_inches='tight')\n",
    "plt.show()"
   ]
  },
  {
   "cell_type": "markdown",
   "metadata": {
    "collapsed": true
   },
   "source": [
    "# Pause!! "
   ]
  },
  {
   "cell_type": "code",
   "execution_count": 113,
   "metadata": {},
   "outputs": [
    {
     "data": {
      "image/png": "[encoded data removed]",
      "text/plain": [
       "<matplotlib.figure.Figure at 0x7f5ad7944240>"
      ]
     },
     "metadata": {},
     "output_type": "display_data"
    }
   ],
   "source": [
    "import numpy as np\n",
    "import matplotlib.pyplot as plt \n",
    "\n",
    "x = np.array([2.5,2.5,7,7,6.5,6,5.5,5,4.5,4,3.5,3,3,4])\n",
    "y = np.array([16,25,25,6,5,4,3,3,4,5,6,7,12,12])\n",
    "\n",
    "plt.plot(x,y)\n",
    "\n",
    "x = np.array([8,10,12,14,10,14,16])\n",
    "y = np.array([3,14,25,14,14,14,3])\n",
    "\n",
    "plt.plot(x,y)\n",
    "\n",
    "x = np.array([17,20,25,29])\n",
    "y = np.array([3,25,6,25])\n",
    "\n",
    "plt.plot(x,y)\n",
    "\n",
    "x = np.array([29,31,33,35,31,35,37])\n",
    "y = np.array([3,14,25,14,14,14,3])\n",
    "\n",
    "plt.plot(x,y)\n",
    "plt.xlabel('Buchstabenweite')\n",
    "plt.ylabel('Buchstabenhöhe')\n",
    "plt.show()"
   ]
  },
  {
   "cell_type": "code",
   "execution_count": null,
   "metadata": {
    "collapsed": true
   },
   "outputs": [],
   "source": []
  }
 ],
 "metadata": {
  "kernelspec": {
   "display_name": "Python 3",
   "language": "python",
   "name": "python3"
  },
  "language_info": {
   "codemirror_mode": {
    "name": "ipython",
    "version": 3
   },
   "file_extension": ".py",
   "mimetype": "text/x-python",
   "name": "python",
   "nbconvert_exporter": "python",
   "pygments_lexer": "ipython3",
   "version": "3.6.3"
  }
 },
 "nbformat": 4,
 "nbformat_minor": 2
}
